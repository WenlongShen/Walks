{
 "cells": [
  {
   "cell_type": "markdown",
   "metadata": {
    "_uuid": "67f1ef572ea1f522bcdc6a775bf629ee740d87ac"
   },
   "source": [
    "#### Overview\n",
    "\n",
    "问题介绍如下：\n",
    "\n",
    "The malware industry continues to be a well-organized, well-funded market dedicated to evading traditional security measures. Once a computer is infected by malware, criminals can hurt consumers and enterprises in many ways.\n",
    "\n",
    "With more than one billion enterprise and consumer customers, Microsoft takes this problem very seriously and is deeply invested in improving security.\n",
    "\n",
    "As one part of their overall strategy for doing so, Microsoft is challenging the data science community to develop techniques to predict if a machine will soon be hit with malware. As with their previous, Malware Challenge (2015), Microsoft is providing Kagglers with an unprecedented malware dataset to encourage open-source progress on effective techniques for predicting malware occurrences.\n",
    "\n",
    "Can you help protect more than one billion machines from damage BEFORE it happens?"
   ]
  },
  {
   "cell_type": "markdown",
   "metadata": {
    "_uuid": "3fc9d6b2803d88673e9455315e823b1407f7ff0f"
   },
   "source": [
    "#### 1. Utility functions\n",
    "\n",
    "原数据集过于庞大，我们参考<a href=\"https://www.kaggle.com/theoviel/load-the-totality-of-the-data\" target=\"_blank\">Theo Viel</a>和<a href=\"https://www.kaggle.com/fabiendaniel/detecting-malwares-with-lgbm\" target=\"_blank\">Fabien Daniel</a>做一些优化。\n",
    "\n",
    "首先是指定数据读取类型，其次是"
   ]
  },
  {
   "cell_type": "code",
   "execution_count": 1,
   "metadata": {
    "_kg_hide-input": true,
    "_uuid": "9a15f134e550358f13e0f3b937e759ed48fd23d9",
    "collapsed": true
   },
   "outputs": [],
   "source": [
    "def reduce_mem_usage(df, verbose=True):\n",
    "    numerics = ['int16', 'int32', 'int64', 'float16', 'float32', 'float64']\n",
    "    start_mem = df.memory_usage().sum() / 1024**2    \n",
    "    for col in df.columns:\n",
    "        col_type = df[col].dtypes\n",
    "        if col_type in numerics:\n",
    "            c_min = df[col].min()\n",
    "            c_max = df[col].max()\n",
    "            if str(col_type)[:3] == 'int':\n",
    "                if c_min > np.iinfo(np.int8).min and c_max < np.iinfo(np.int8).max:\n",
    "                    df[col] = df[col].astype(np.int8)\n",
    "                elif c_min > np.iinfo(np.int16).min and c_max < np.iinfo(np.int16).max:\n",
    "                    df[col] = df[col].astype(np.int16)\n",
    "                elif c_min > np.iinfo(np.int32).min and c_max < np.iinfo(np.int32).max:\n",
    "                    df[col] = df[col].astype(np.int32)\n",
    "                elif c_min > np.iinfo(np.int64).min and c_max < np.iinfo(np.int64).max:\n",
    "                    df[col] = df[col].astype(np.int64)  \n",
    "            else:\n",
    "                if c_min > np.finfo(np.float16).min and c_max < np.finfo(np.float16).max:\n",
    "                    df[col] = df[col].astype(np.float16)\n",
    "                elif c_min > np.finfo(np.float32).min and c_max < np.finfo(np.float32).max:\n",
    "                    df[col] = df[col].astype(np.float32)\n",
    "                else:\n",
    "                    df[col] = df[col].astype(np.float64)    \n",
    "    end_mem = df.memory_usage().sum() / 1024**2\n",
    "    if verbose: print('Mem. usage decreased to {:5.2f} Mb ({:.1f}% reduction)'.format(end_mem, 100 * (start_mem - end_mem) / start_mem))\n",
    "    return df"
   ]
  },
  {
   "cell_type": "markdown",
   "metadata": {
    "_uuid": "ea005def562ae65202ec9322bec60fd25a1961e1"
   },
   "source": [
    "<a id=\"1\"></a> <br>\n",
    "## 2. Loading the data"
   ]
  },
  {
   "cell_type": "code",
   "execution_count": 2,
   "metadata": {
    "_cell_guid": "b1076dfc-b9ad-4769-8c92-a6c4dae69d19",
    "_uuid": "8f2839f25d086af736a60e9eeb907d3b93b6e0e5"
   },
   "outputs": [
    {
     "data": {
      "text/html": [
       "<script type=\"text/javascript\">window.PlotlyConfig = {MathJaxConfig: 'local'};</script><script type=\"text/javascript\">if (window.MathJax) {MathJax.Hub.Config({SVG: {font: \"STIX-Web\"}});}</script><script>requirejs.config({paths: { 'plotly': ['https://cdn.plot.ly/plotly-latest.min']},});if(!window._Plotly) {require(['plotly'],function(plotly) {window._Plotly=plotly;});}</script>"
      ],
      "text/vnd.plotly.v1+html": [
       "<script type=\"text/javascript\">window.PlotlyConfig = {MathJaxConfig: 'local'};</script><script type=\"text/javascript\">if (window.MathJax) {MathJax.Hub.Config({SVG: {font: \"STIX-Web\"}});}</script><script>requirejs.config({paths: { 'plotly': ['https://cdn.plot.ly/plotly-latest.min']},});if(!window._Plotly) {require(['plotly'],function(plotly) {window._Plotly=plotly;});}</script>"
      ]
     },
     "metadata": {},
     "output_type": "display_data"
    }
   ],
   "source": [
    "import numpy as np \n",
    "import pandas as pd \n",
    "import matplotlib.pyplot as plt\n",
    "import seaborn as sns\n",
    "import lightgbm as lgb\n",
    "from sklearn.model_selection import KFold\n",
    "import warnings\n",
    "import gc\n",
    "import time\n",
    "import sys\n",
    "import datetime\n",
    "import matplotlib.pyplot as plt\n",
    "import seaborn as sns\n",
    "from tqdm import tqdm\n",
    "from sklearn.metrics import mean_squared_error\n",
    "warnings.simplefilter(action='ignore', category=FutureWarning)\n",
    "from sklearn import metrics\n",
    "# Plotly library\n",
    "from plotly.offline import init_notebook_mode, iplot\n",
    "import plotly.graph_objs as go\n",
    "from plotly import tools\n",
    "init_notebook_mode(connected=True)\n",
    "pd.set_option('display.max_columns', 500)"
   ]
  },
  {
   "cell_type": "markdown",
   "metadata": {
    "_uuid": "5568d0ede96997c2809e883d5c39cc20b1d8c37c"
   },
   "source": [
    "<a id=\"2.1\"></a> <br>\n",
    "### 2.1 Get the files and select the variables\n",
    "Following [Theo Viel](https://www.kaggle.com/theoviel/load-the-totality-of-the-data), we set the types of each fields in the train set in order to reduce the memory usage:"
   ]
  },
  {
   "cell_type": "code",
   "execution_count": 3,
   "metadata": {
    "_kg_hide-input": true,
    "_uuid": "b91444fc96ca462398820c2ba54bccd7b4bf4d03",
    "collapsed": true
   },
   "outputs": [],
   "source": [
    "dtypes = {\n",
    "        'MachineIdentifier':                                    'category',\n",
    "        'ProductName':                                          'category',\n",
    "        'EngineVersion':                                        'category',\n",
    "        'AppVersion':                                           'category',\n",
    "        'AvSigVersion':                                         'category',\n",
    "        'IsBeta':                                               'int8',\n",
    "        'RtpStateBitfield':                                     'float16',\n",
    "        'IsSxsPassiveMode':                                     'int8',\n",
    "        'DefaultBrowsersIdentifier':                            'float16',\n",
    "        'AVProductStatesIdentifier':                            'float32',\n",
    "        'AVProductsInstalled':                                  'float16',\n",
    "        'AVProductsEnabled':                                    'float16',\n",
    "        'HasTpm':                                               'int8',\n",
    "        'CountryIdentifier':                                    'int16',\n",
    "        'CityIdentifier':                                       'float32',\n",
    "        'OrganizationIdentifier':                               'float16',\n",
    "        'GeoNameIdentifier':                                    'float16',\n",
    "        'LocaleEnglishNameIdentifier':                          'int8',\n",
    "        'Platform':                                             'category',\n",
    "        'Processor':                                            'category',\n",
    "        'OsVer':                                                'category',\n",
    "        'OsBuild':                                              'int16',\n",
    "        'OsSuite':                                              'int16',\n",
    "        'OsPlatformSubRelease':                                 'category',\n",
    "        'OsBuildLab':                                           'category',\n",
    "        'SkuEdition':                                           'category',\n",
    "        'IsProtected':                                          'float16',\n",
    "        'AutoSampleOptIn':                                      'int8',\n",
    "        'PuaMode':                                              'category',\n",
    "        'SMode':                                                'float16',\n",
    "        'IeVerIdentifier':                                      'float16',\n",
    "        'SmartScreen':                                          'category',\n",
    "        'Firewall':                                             'float16',\n",
    "        'UacLuaenable':                                         'float32',\n",
    "        'Census_MDC2FormFactor':                                'category',\n",
    "        'Census_DeviceFamily':                                  'category',\n",
    "        'Census_OEMNameIdentifier':                             'float16',\n",
    "        'Census_OEMModelIdentifier':                            'float32',\n",
    "        'Census_ProcessorCoreCount':                            'float16',\n",
    "        'Census_ProcessorManufacturerIdentifier':               'float16',\n",
    "        'Census_ProcessorModelIdentifier':                      'float16',\n",
    "        'Census_ProcessorClass':                                'category',\n",
    "        'Census_PrimaryDiskTotalCapacity':                      'float32',\n",
    "        'Census_PrimaryDiskTypeName':                           'category',\n",
    "        'Census_SystemVolumeTotalCapacity':                     'float32',\n",
    "        'Census_HasOpticalDiskDrive':                           'int8',\n",
    "        'Census_TotalPhysicalRAM':                              'float32',\n",
    "        'Census_ChassisTypeName':                               'category',\n",
    "        'Census_InternalPrimaryDiagonalDisplaySizeInInches':    'float16',\n",
    "        'Census_InternalPrimaryDisplayResolutionHorizontal':    'float16',\n",
    "        'Census_InternalPrimaryDisplayResolutionVertical':      'float16',\n",
    "        'Census_PowerPlatformRoleName':                         'category',\n",
    "        'Census_InternalBatteryType':                           'category',\n",
    "        'Census_InternalBatteryNumberOfCharges':                'float32',\n",
    "        'Census_OSVersion':                                     'category',\n",
    "        'Census_OSArchitecture':                                'category',\n",
    "        'Census_OSBranch':                                      'category',\n",
    "        'Census_OSBuildNumber':                                 'int16',\n",
    "        'Census_OSBuildRevision':                               'int32',\n",
    "        'Census_OSEdition':                                     'category',\n",
    "        'Census_OSSkuName':                                     'category',\n",
    "        'Census_OSInstallTypeName':                             'category',\n",
    "        'Census_OSInstallLanguageIdentifier':                   'float16',\n",
    "        'Census_OSUILocaleIdentifier':                          'int16',\n",
    "        'Census_OSWUAutoUpdateOptionsName':                     'category',\n",
    "        'Census_IsPortableOperatingSystem':                     'int8',\n",
    "        'Census_GenuineStateName':                              'category',\n",
    "        'Census_ActivationChannel':                             'category',\n",
    "        'Census_IsFlightingInternal':                           'float16',\n",
    "        'Census_IsFlightsDisabled':                             'float16',\n",
    "        'Census_FlightRing':                                    'category',\n",
    "        'Census_ThresholdOptIn':                                'float16',\n",
    "        'Census_FirmwareManufacturerIdentifier':                'float16',\n",
    "        'Census_FirmwareVersionIdentifier':                     'float32',\n",
    "        'Census_IsSecureBootEnabled':                           'int8',\n",
    "        'Census_IsWIMBootEnabled':                              'float16',\n",
    "        'Census_IsVirtualDevice':                               'float16',\n",
    "        'Census_IsTouchEnabled':                                'int8',\n",
    "        'Census_IsPenCapable':                                  'int8',\n",
    "        'Census_IsAlwaysOnAlwaysConnectedCapable':              'float16',\n",
    "        'Wdft_IsGamer':                                         'float16',\n",
    "        'Wdft_RegionIdentifier':                                'float16',\n",
    "        'HasDetections':                                        'int8'\n",
    "        }"
   ]
  },
  {
   "cell_type": "markdown",
   "metadata": {
    "_uuid": "ba5573cfaec6625aed13e98c6e034809e2997b5b"
   },
   "source": [
    "First, we make a census of the variables, by type, and define the set we want to keep before reading the data:"
   ]
  },
  {
   "cell_type": "code",
   "execution_count": 4,
   "metadata": {
    "_uuid": "057a508919fad540d226da391cff358b85556b74",
    "collapsed": true
   },
   "outputs": [],
   "source": [
    "numerics = ['int8', 'int16', 'int32', 'int64', 'float16', 'float32', 'float64']\n",
    "numerical_columns = [c for c,v in dtypes.items() if v in numerics]\n",
    "categorical_columns = [c for c,v in dtypes.items() if v not in numerics]"
   ]
  },
  {
   "cell_type": "markdown",
   "metadata": {
    "_uuid": "23a93bf7ad302d8fe733b9d70de5eed27945979d"
   },
   "source": [
    "We read the data, limiting the size of the training set to 4'000'000 rows:"
   ]
  },
  {
   "cell_type": "code",
   "execution_count": 5,
   "metadata": {
    "_cell_guid": "79c7e3d0-c299-4dcb-8224-4455121ee9b0",
    "_uuid": "d629ff2d2480ee46fbb7e2d37f6b5fab8052498a",
    "collapsed": true
   },
   "outputs": [],
   "source": [
    "#_______________________________________________________________________________\n",
    "retained_columns = numerical_columns + categorical_columns\n",
    "train = pd.read_csv('datasets/mmp/train.csv',\n",
    "                    usecols = retained_columns,\n",
    "                    dtype = dtypes)\n",
    "#_______________________________________________________________\n",
    "retained_columns += ['MachineIdentifier']\n",
    "retained_columns.remove('HasDetections')\n",
    "test = pd.read_csv('datasets/mmp/test.csv',\n",
    "                   usecols = retained_columns,\n",
    "                   dtype = dtypes)"
   ]
  },
  {
   "cell_type": "markdown",
   "metadata": {
    "_uuid": "123fe175bb92d7262b33649b1aa3619bad28b577"
   },
   "source": [
    "<a id=\"2.2\"></a> <br>\n",
    "### 2.2 Define the type of each variable\n",
    "In practice, among the numerical variables, many corresponds to identifiers. *In the current dataset, the truly numerical variables are in fact rare*. Below, I make a list of the variables which are truly numerical, according the the description of the data."
   ]
  },
  {
   "cell_type": "code",
   "execution_count": 6,
   "metadata": {
    "_uuid": "1485ef0a5822d9c0064e39f6b94977d336dd3698",
    "collapsed": true
   },
   "outputs": [],
   "source": [
    "true_numerical_columns = [\n",
    "    'Census_ProcessorCoreCount',\n",
    "    'Census_PrimaryDiskTotalCapacity',\n",
    "    'Census_SystemVolumeTotalCapacity',\n",
    "    'Census_TotalPhysicalRAM',\n",
    "    'Census_InternalPrimaryDiagonalDisplaySizeInInches',\n",
    "    'Census_InternalPrimaryDisplayResolutionHorizontal',\n",
    "    'Census_InternalPrimaryDisplayResolutionVertical',\n",
    "    'Census_InternalBatteryNumberOfCharges'\n",
    "]"
   ]
  },
  {
   "cell_type": "markdown",
   "metadata": {
    "_uuid": "837cc82ceb02e7dcb519542f7bead3299c1e0761"
   },
   "source": [
    "We also list binary variables, since they can be treated as numericals by tree methods:"
   ]
  },
  {
   "cell_type": "code",
   "execution_count": 7,
   "metadata": {
    "_uuid": "8bcb5afe9e9f6501f0f4f509d7c140617b259f69",
    "collapsed": true
   },
   "outputs": [],
   "source": [
    "binary_variables = [c for c in train.columns if train[c].nunique() == 2]"
   ]
  },
  {
   "cell_type": "markdown",
   "metadata": {
    "_uuid": "746df3e5496acba451e89a05f75042e7ef5ddcd8"
   },
   "source": [
    "to finally make a census of the categorical variables:"
   ]
  },
  {
   "cell_type": "code",
   "execution_count": 8,
   "metadata": {
    "_uuid": "7f249c89e5deee0e36a0983ec6c2ab934ee13a8c",
    "collapsed": true
   },
   "outputs": [],
   "source": [
    "categorical_columns = [c for c in train.columns \n",
    "                       if (c not in true_numerical_columns) & (c not in binary_variables)]"
   ]
  },
  {
   "cell_type": "code",
   "execution_count": 9,
   "metadata": {
    "_kg_hide-input": true,
    "_uuid": "02a03355068b80bd404dc6c34f95ded2b138e344"
   },
   "outputs": [
    {
     "data": {
      "application/vnd.plotly.v1+json": {
       "config": {
        "linkText": "Export to plot.ly",
        "plotlyServerURL": "https://plot.ly",
        "showLink": true
       },
       "data": [
        {
         "labels": [
          "categorical_columns",
          "binary_variables",
          "true_numerical_columns"
         ],
         "type": "pie",
         "uid": "3062668d-037f-4899-ac20-b462c6eda713",
         "values": [
          54,
          21,
          8
         ]
        }
       ],
       "layout": {
        "height": 400,
        "title": "Variable types",
        "width": 800
       }
      },
      "text/html": [
       "<div id=\"f35b6478-7575-4e8d-9094-983fc539bc6e\" style=\"height: 400px; width: 800px;\" class=\"plotly-graph-div\"></div><script type=\"text/javascript\">require([\"plotly\"], function(Plotly) { window.PLOTLYENV=window.PLOTLYENV || {};window.PLOTLYENV.BASE_URL=\"https://plot.ly\";Plotly.newPlot(\"f35b6478-7575-4e8d-9094-983fc539bc6e\", [{\"labels\": [\"categorical_columns\", \"binary_variables\", \"true_numerical_columns\"], \"values\": [54, 21, 8], \"type\": \"pie\", \"uid\": \"030d4953-1972-46f4-b091-746157641ae0\"}], {\"height\": 400, \"title\": \"Variable types\", \"width\": 800}, {\"showLink\": true, \"linkText\": \"Export to plot.ly\", \"plotlyServerURL\": \"https://plot.ly\"})});</script>"
      ],
      "text/vnd.plotly.v1+html": [
       "<div id=\"f35b6478-7575-4e8d-9094-983fc539bc6e\" style=\"height: 400px; width: 800px;\" class=\"plotly-graph-div\"></div><script type=\"text/javascript\">require([\"plotly\"], function(Plotly) { window.PLOTLYENV=window.PLOTLYENV || {};window.PLOTLYENV.BASE_URL=\"https://plot.ly\";Plotly.newPlot(\"f35b6478-7575-4e8d-9094-983fc539bc6e\", [{\"labels\": [\"categorical_columns\", \"binary_variables\", \"true_numerical_columns\"], \"values\": [54, 21, 8], \"type\": \"pie\", \"uid\": \"030d4953-1972-46f4-b091-746157641ae0\"}], {\"height\": 400, \"title\": \"Variable types\", \"width\": 800}, {\"showLink\": true, \"linkText\": \"Export to plot.ly\", \"plotlyServerURL\": \"https://plot.ly\"})});</script>"
      ]
     },
     "metadata": {},
     "output_type": "display_data"
    }
   ],
   "source": [
    "variables = {\n",
    "    'categorical_columns': len(categorical_columns),\n",
    "    'binary_variables': len(binary_variables),\n",
    "    'true_numerical_columns': len(true_numerical_columns)\n",
    "}\n",
    "pie_trace = go.Pie(labels=list(variables.keys()), values=list(variables.values()))\n",
    "layout = dict(title= \"Variable types\", height=400, width=800)\n",
    "fig = dict(data=[pie_trace], layout=layout)\n",
    "iplot(fig)"
   ]
  },
  {
   "cell_type": "markdown",
   "metadata": {
    "_uuid": "ad51d7daad193e0dab467f82dfad4c7ce7876d56"
   },
   "source": [
    "Most of the current variables are categories and we need to choose a method to treat them. **Depending on the cardinality of each variable**, we can opt for** one-hot-encoding, frequency or target encoding**. In the particular case of Light-GBM, we can also use the **built-in LGBM treatment of categoricals**:"
   ]
  },
  {
   "cell_type": "code",
   "execution_count": 10,
   "metadata": {
    "_kg_hide-input": true,
    "_uuid": "bf2a4a2490650a68ca65991e08a0f6975a549102"
   },
   "outputs": [
    {
     "data": {
      "application/vnd.plotly.v1+json": {
       "config": {
        "linkText": "Export to plot.ly",
        "plotlyServerURL": "https://plot.ly",
        "showLink": true
       },
       "data": [
        {
         "marker": {
          "color": "rgb(49,130,189)"
         },
         "name": "train",
         "orientation": "h",
         "type": "bar",
         "uid": "4c00ff00-791f-4f7c-b580-9f93c80ded9b",
         "x": [
          3,
          3,
          3,
          3,
          4,
          4,
          5,
          6,
          6,
          6,
          6,
          7,
          7,
          8,
          8,
          9,
          9,
          10,
          10,
          11,
          13,
          14,
          15,
          21,
          30,
          32,
          33,
          39,
          49,
          52,
          58,
          70,
          76,
          78,
          110,
          147,
          165,
          222,
          252,
          285,
          292,
          303,
          469,
          663,
          712,
          1730,
          2564,
          2583,
          8531,
          28970,
          50494,
          107366,
          175365
         ],
         "y": [
          "Processor",
          "Census_DeviceFamily",
          "Census_ProcessorClass",
          "Census_OSArchitecture",
          "Platform",
          "Census_PrimaryDiskTypeName",
          "Census_GenuineStateName",
          "ProductName",
          "AVProductsEnabled",
          "Census_OSWUAutoUpdateOptionsName",
          "Census_ActivationChannel",
          "RtpStateBitfield",
          "Census_ProcessorManufacturerIdentifier",
          "AVProductsInstalled",
          "SkuEdition",
          "OsPlatformSubRelease",
          "Census_OSInstallTypeName",
          "Census_PowerPlatformRoleName",
          "Census_FlightRing",
          "UacLuaenable",
          "Census_MDC2FormFactor",
          "OsSuite",
          "Wdft_RegionIdentifier",
          "SmartScreen",
          "Census_OSSkuName",
          "Census_OSBranch",
          "Census_OSEdition",
          "Census_OSInstallLanguageIdentifier",
          "OrganizationIdentifier",
          "Census_ChassisTypeName",
          "OsVer",
          "EngineVersion",
          "OsBuild",
          "Census_InternalBatteryType",
          "AppVersion",
          "Census_OSUILocaleIdentifier",
          "Census_OSBuildNumber",
          "CountryIdentifier",
          "LocaleEnglishNameIdentifier",
          "Census_OSBuildRevision",
          "GeoNameIdentifier",
          "IeVerIdentifier",
          "Census_OSVersion",
          "OsBuildLab",
          "Census_FirmwareManufacturerIdentifier",
          "DefaultBrowsersIdentifier",
          "Census_OEMNameIdentifier",
          "Census_ProcessorModelIdentifier",
          "AvSigVersion",
          "AVProductStatesIdentifier",
          "Census_FirmwareVersionIdentifier",
          "CityIdentifier",
          "Census_OEMModelIdentifier"
         ]
        }
       ],
       "layout": {
        "bargap": 0.1,
        "bargroupgap": 0.1,
        "barmode": "group",
        "height": 1600,
        "title": "Categorical cardinality",
        "width": 800,
        "xaxis": {
         "domain": [
          0.25,
          1
         ],
         "title": "Number of categories",
         "titlefont": {
          "color": "rgb(107, 107, 107)",
          "size": 16
         }
        }
       }
      },
      "text/html": [
       "<div id=\"6897a862-6de1-4211-9068-b1752555329d\" style=\"height: 1600px; width: 800px;\" class=\"plotly-graph-div\"></div><script type=\"text/javascript\">require([\"plotly\"], function(Plotly) { window.PLOTLYENV=window.PLOTLYENV || {};window.PLOTLYENV.BASE_URL=\"https://plot.ly\";Plotly.newPlot(\"6897a862-6de1-4211-9068-b1752555329d\", [{\"marker\": {\"color\": \"rgb(49,130,189)\"}, \"name\": \"train\", \"orientation\": \"h\", \"x\": [3, 3, 3, 3, 4, 4, 5, 6, 6, 6, 6, 7, 7, 8, 8, 9, 9, 10, 10, 11, 13, 14, 15, 21, 30, 32, 33, 39, 49, 52, 58, 70, 76, 78, 110, 147, 165, 222, 252, 285, 292, 303, 469, 663, 712, 1730, 2564, 2583, 8531, 28970, 50494, 107366, 175365], \"y\": [\"Processor\", \"Census_DeviceFamily\", \"Census_ProcessorClass\", \"Census_OSArchitecture\", \"Platform\", \"Census_PrimaryDiskTypeName\", \"Census_GenuineStateName\", \"ProductName\", \"AVProductsEnabled\", \"Census_OSWUAutoUpdateOptionsName\", \"Census_ActivationChannel\", \"RtpStateBitfield\", \"Census_ProcessorManufacturerIdentifier\", \"AVProductsInstalled\", \"SkuEdition\", \"OsPlatformSubRelease\", \"Census_OSInstallTypeName\", \"Census_PowerPlatformRoleName\", \"Census_FlightRing\", \"UacLuaenable\", \"Census_MDC2FormFactor\", \"OsSuite\", \"Wdft_RegionIdentifier\", \"SmartScreen\", \"Census_OSSkuName\", \"Census_OSBranch\", \"Census_OSEdition\", \"Census_OSInstallLanguageIdentifier\", \"OrganizationIdentifier\", \"Census_ChassisTypeName\", \"OsVer\", \"EngineVersion\", \"OsBuild\", \"Census_InternalBatteryType\", \"AppVersion\", \"Census_OSUILocaleIdentifier\", \"Census_OSBuildNumber\", \"CountryIdentifier\", \"LocaleEnglishNameIdentifier\", \"Census_OSBuildRevision\", \"GeoNameIdentifier\", \"IeVerIdentifier\", \"Census_OSVersion\", \"OsBuildLab\", \"Census_FirmwareManufacturerIdentifier\", \"DefaultBrowsersIdentifier\", \"Census_OEMNameIdentifier\", \"Census_ProcessorModelIdentifier\", \"AvSigVersion\", \"AVProductStatesIdentifier\", \"Census_FirmwareVersionIdentifier\", \"CityIdentifier\", \"Census_OEMModelIdentifier\"], \"type\": \"bar\", \"uid\": \"4c00ff00-791f-4f7c-b580-9f93c80ded9b\"}], {\"bargap\": 0.1, \"bargroupgap\": 0.1, \"barmode\": \"group\", \"height\": 1600, \"title\": \"Categorical cardinality\", \"width\": 800, \"xaxis\": {\"domain\": [0.25, 1], \"title\": \"Number of categories\", \"titlefont\": {\"color\": \"rgb(107, 107, 107)\", \"size\": 16}}}, {\"showLink\": true, \"linkText\": \"Export to plot.ly\", \"plotlyServerURL\": \"https://plot.ly\"})});</script>"
      ],
      "text/vnd.plotly.v1+html": [
       "<div id=\"6897a862-6de1-4211-9068-b1752555329d\" style=\"height: 1600px; width: 800px;\" class=\"plotly-graph-div\"></div><script type=\"text/javascript\">require([\"plotly\"], function(Plotly) { window.PLOTLYENV=window.PLOTLYENV || {};window.PLOTLYENV.BASE_URL=\"https://plot.ly\";Plotly.newPlot(\"6897a862-6de1-4211-9068-b1752555329d\", [{\"marker\": {\"color\": \"rgb(49,130,189)\"}, \"name\": \"train\", \"orientation\": \"h\", \"x\": [3, 3, 3, 3, 4, 4, 5, 6, 6, 6, 6, 7, 7, 8, 8, 9, 9, 10, 10, 11, 13, 14, 15, 21, 30, 32, 33, 39, 49, 52, 58, 70, 76, 78, 110, 147, 165, 222, 252, 285, 292, 303, 469, 663, 712, 1730, 2564, 2583, 8531, 28970, 50494, 107366, 175365], \"y\": [\"Processor\", \"Census_DeviceFamily\", \"Census_ProcessorClass\", \"Census_OSArchitecture\", \"Platform\", \"Census_PrimaryDiskTypeName\", \"Census_GenuineStateName\", \"ProductName\", \"AVProductsEnabled\", \"Census_OSWUAutoUpdateOptionsName\", \"Census_ActivationChannel\", \"RtpStateBitfield\", \"Census_ProcessorManufacturerIdentifier\", \"AVProductsInstalled\", \"SkuEdition\", \"OsPlatformSubRelease\", \"Census_OSInstallTypeName\", \"Census_PowerPlatformRoleName\", \"Census_FlightRing\", \"UacLuaenable\", \"Census_MDC2FormFactor\", \"OsSuite\", \"Wdft_RegionIdentifier\", \"SmartScreen\", \"Census_OSSkuName\", \"Census_OSBranch\", \"Census_OSEdition\", \"Census_OSInstallLanguageIdentifier\", \"OrganizationIdentifier\", \"Census_ChassisTypeName\", \"OsVer\", \"EngineVersion\", \"OsBuild\", \"Census_InternalBatteryType\", \"AppVersion\", \"Census_OSUILocaleIdentifier\", \"Census_OSBuildNumber\", \"CountryIdentifier\", \"LocaleEnglishNameIdentifier\", \"Census_OSBuildRevision\", \"GeoNameIdentifier\", \"IeVerIdentifier\", \"Census_OSVersion\", \"OsBuildLab\", \"Census_FirmwareManufacturerIdentifier\", \"DefaultBrowsersIdentifier\", \"Census_OEMNameIdentifier\", \"Census_ProcessorModelIdentifier\", \"AvSigVersion\", \"AVProductStatesIdentifier\", \"Census_FirmwareVersionIdentifier\", \"CityIdentifier\", \"Census_OEMModelIdentifier\"], \"type\": \"bar\", \"uid\": \"4c00ff00-791f-4f7c-b580-9f93c80ded9b\"}], {\"bargap\": 0.1, \"bargroupgap\": 0.1, \"barmode\": \"group\", \"height\": 1600, \"title\": \"Categorical cardinality\", \"width\": 800, \"xaxis\": {\"domain\": [0.25, 1], \"title\": \"Number of categories\", \"titlefont\": {\"color\": \"rgb(107, 107, 107)\", \"size\": 16}}}, {\"showLink\": true, \"linkText\": \"Export to plot.ly\", \"plotlyServerURL\": \"https://plot.ly\"})});</script>"
      ]
     },
     "metadata": {},
     "output_type": "display_data"
    }
   ],
   "source": [
    "cardinality = []\n",
    "for c in categorical_columns:\n",
    "    if c == 'MachineIdentifier': continue\n",
    "    cardinality.append([c, train[c].nunique()])\n",
    "cardinality.sort(key = lambda x:x[1], reverse=False)\n",
    "\n",
    "trace = go.Bar(y=[x[0] for x in cardinality],\n",
    "               x=[x[1] for x in cardinality],\n",
    "               orientation='h', marker=dict(color='rgb(49,130,189)'), name='train')\n",
    "\n",
    "layout = go.Layout(\n",
    "    title='Categorical cardinality', height=1600, width=800,\n",
    "    xaxis=dict(\n",
    "        title='Number of categories',\n",
    "        titlefont=dict(size=16, color='rgb(107, 107, 107)'),\n",
    "        domain=[0.25, 1]\n",
    "    ),\n",
    "    barmode='group',\n",
    "    bargap=0.1,\n",
    "    bargroupgap=0.1\n",
    ")\n",
    "\n",
    "fig = go.Figure(data=[trace], layout=layout)\n",
    "iplot(fig)"
   ]
  },
  {
   "cell_type": "markdown",
   "metadata": {
    "_uuid": "fec10635dc57ca66edf9600bed8a4eca5958f780"
   },
   "source": [
    "<a id=\"2\"></a> <br>\n",
    "## 3. Feature Engineering\n",
    "<a id=\"3.1\"></a> <br>\n",
    "### 3.1 Frequency encoding\n",
    "For variables with large cardinality, an efficient encoding consists in ranking the categories with respect to their frequencies. These variables are then treated as numerical."
   ]
  },
  {
   "cell_type": "code",
   "execution_count": 11,
   "metadata": {
    "_kg_hide-input": true,
    "_uuid": "d8cc8d69a682a1a753c82ee69b6a3fc26c99ec3a",
    "collapsed": true
   },
   "outputs": [],
   "source": [
    "def frequency_encoding(variable):\n",
    "    t = pd.concat([train[variable], test[variable]]).value_counts().reset_index()\n",
    "    t = t.reset_index()\n",
    "    t.loc[t[variable] == 1, 'level_0'] = np.nan\n",
    "    t.set_index('index', inplace=True)\n",
    "    max_label = t['level_0'].max() + 1\n",
    "    t.fillna(max_label, inplace=True)\n",
    "    return t.to_dict()['level_0']"
   ]
  },
  {
   "cell_type": "code",
   "execution_count": 12,
   "metadata": {
    "_uuid": "5d59541ddae08fc488b48b36d426ab9ec43ebd60",
    "collapsed": true
   },
   "outputs": [],
   "source": [
    "frequency_encoded_variables = [\n",
    "    'Census_OEMModelIdentifier',\n",
    "    'CityIdentifier',\n",
    "    'Census_FirmwareVersionIdentifier',\n",
    "    'AvSigVersion',\n",
    "    'Census_ProcessorModelIdentifier',\n",
    "    'Census_OEMNameIdentifier',\n",
    "    'DefaultBrowsersIdentifier'\n",
    "]"
   ]
  },
  {
   "cell_type": "code",
   "execution_count": 13,
   "metadata": {
    "_uuid": "8c18a1d420eeb72f8dfac35e2f9ce7bde823f66b"
   },
   "outputs": [
    {
     "name": "stderr",
     "output_type": "stream",
     "text": [
      "100%|████████████████████████████████████████████████████████████████████████████████████| 7/7 [00:42<00:00,  6.05s/it]\n"
     ]
    }
   ],
   "source": [
    "for variable in tqdm(frequency_encoded_variables):\n",
    "    freq_enc_dict = frequency_encoding(variable)\n",
    "    train[variable] = train[variable].map(lambda x: freq_enc_dict.get(x, np.nan))\n",
    "    test[variable] = test[variable].map(lambda x: freq_enc_dict.get(x, np.nan))\n",
    "    categorical_columns.remove(variable)"
   ]
  },
  {
   "cell_type": "markdown",
   "metadata": {
    "_uuid": "a1355051b9350acb3f0bd3cc14f52f47082e0756"
   },
   "source": [
    "<a id=\"3.2\"></a> <br>\n",
    "### 3.2 Label encoding"
   ]
  },
  {
   "cell_type": "code",
   "execution_count": 14,
   "metadata": {
    "_uuid": "8eec30f337f6893ed6ae0cdb348595e0b701eef2"
   },
   "outputs": [
    {
     "name": "stderr",
     "output_type": "stream",
     "text": [
      "100%|██████████████████████████████████████████████████████████████████████████████████| 47/47 [00:06<00:00,  6.56it/s]\n",
      "100%|██████████████████████████████████████████████████████████████████████████████████| 47/47 [32:17<00:00, 30.42s/it]\n"
     ]
    }
   ],
   "source": [
    "indexer = {}\n",
    "for col in tqdm(categorical_columns):\n",
    "    if col == 'MachineIdentifier': continue\n",
    "    _, indexer[col] = pd.factorize(train[col])\n",
    "    \n",
    "for col in tqdm(categorical_columns):\n",
    "    if col == 'MachineIdentifier': continue\n",
    "    train[col] = indexer[col].get_indexer(train[col])\n",
    "    test[col] = indexer[col].get_indexer(test[col])"
   ]
  },
  {
   "cell_type": "code",
   "execution_count": 15,
   "metadata": {
    "_uuid": "e30b4a83f31c0ee16c5d628438bb3dc2d123ca8e"
   },
   "outputs": [
    {
     "name": "stdout",
     "output_type": "stream",
     "text": [
      "Mem. usage decreased to 1528.16 Mb (66.0% reduction)\n",
      "Mem. usage decreased to 1376.01 Mb (65.5% reduction)\n"
     ]
    }
   ],
   "source": [
    "train = reduce_mem_usage(train)\n",
    "test = reduce_mem_usage(test)"
   ]
  },
  {
   "cell_type": "code",
   "execution_count": 16,
   "metadata": {
    "_uuid": "bdab1c1bcb1fc824d83943d702f9e060dc531402"
   },
   "outputs": [
    {
     "data": {
      "text/html": [
       "<div>\n",
       "<style scoped>\n",
       "    .dataframe tbody tr th:only-of-type {\n",
       "        vertical-align: middle;\n",
       "    }\n",
       "\n",
       "    .dataframe tbody tr th {\n",
       "        vertical-align: top;\n",
       "    }\n",
       "\n",
       "    .dataframe thead th {\n",
       "        text-align: right;\n",
       "    }\n",
       "</style>\n",
       "<table border=\"1\" class=\"dataframe\">\n",
       "  <thead>\n",
       "    <tr style=\"text-align: right;\">\n",
       "      <th></th>\n",
       "      <th>MachineIdentifier</th>\n",
       "      <th>ProductName</th>\n",
       "      <th>EngineVersion</th>\n",
       "      <th>AppVersion</th>\n",
       "      <th>AvSigVersion</th>\n",
       "      <th>IsBeta</th>\n",
       "      <th>RtpStateBitfield</th>\n",
       "      <th>IsSxsPassiveMode</th>\n",
       "      <th>DefaultBrowsersIdentifier</th>\n",
       "      <th>AVProductStatesIdentifier</th>\n",
       "      <th>AVProductsInstalled</th>\n",
       "      <th>AVProductsEnabled</th>\n",
       "      <th>HasTpm</th>\n",
       "      <th>CountryIdentifier</th>\n",
       "      <th>CityIdentifier</th>\n",
       "      <th>OrganizationIdentifier</th>\n",
       "      <th>GeoNameIdentifier</th>\n",
       "      <th>LocaleEnglishNameIdentifier</th>\n",
       "      <th>Platform</th>\n",
       "      <th>Processor</th>\n",
       "      <th>OsVer</th>\n",
       "      <th>OsBuild</th>\n",
       "      <th>OsSuite</th>\n",
       "      <th>OsPlatformSubRelease</th>\n",
       "      <th>OsBuildLab</th>\n",
       "      <th>SkuEdition</th>\n",
       "      <th>IsProtected</th>\n",
       "      <th>AutoSampleOptIn</th>\n",
       "      <th>PuaMode</th>\n",
       "      <th>SMode</th>\n",
       "      <th>IeVerIdentifier</th>\n",
       "      <th>SmartScreen</th>\n",
       "      <th>Firewall</th>\n",
       "      <th>UacLuaenable</th>\n",
       "      <th>Census_MDC2FormFactor</th>\n",
       "      <th>Census_DeviceFamily</th>\n",
       "      <th>Census_OEMNameIdentifier</th>\n",
       "      <th>Census_OEMModelIdentifier</th>\n",
       "      <th>Census_ProcessorCoreCount</th>\n",
       "      <th>Census_ProcessorManufacturerIdentifier</th>\n",
       "      <th>Census_ProcessorModelIdentifier</th>\n",
       "      <th>Census_ProcessorClass</th>\n",
       "      <th>Census_PrimaryDiskTotalCapacity</th>\n",
       "      <th>Census_PrimaryDiskTypeName</th>\n",
       "      <th>Census_SystemVolumeTotalCapacity</th>\n",
       "      <th>Census_HasOpticalDiskDrive</th>\n",
       "      <th>Census_TotalPhysicalRAM</th>\n",
       "      <th>Census_ChassisTypeName</th>\n",
       "      <th>Census_InternalPrimaryDiagonalDisplaySizeInInches</th>\n",
       "      <th>Census_InternalPrimaryDisplayResolutionHorizontal</th>\n",
       "      <th>Census_InternalPrimaryDisplayResolutionVertical</th>\n",
       "      <th>Census_PowerPlatformRoleName</th>\n",
       "      <th>Census_InternalBatteryType</th>\n",
       "      <th>Census_InternalBatteryNumberOfCharges</th>\n",
       "      <th>Census_OSVersion</th>\n",
       "      <th>Census_OSArchitecture</th>\n",
       "      <th>Census_OSBranch</th>\n",
       "      <th>Census_OSBuildNumber</th>\n",
       "      <th>Census_OSBuildRevision</th>\n",
       "      <th>Census_OSEdition</th>\n",
       "      <th>Census_OSSkuName</th>\n",
       "      <th>Census_OSInstallTypeName</th>\n",
       "      <th>Census_OSInstallLanguageIdentifier</th>\n",
       "      <th>Census_OSUILocaleIdentifier</th>\n",
       "      <th>Census_OSWUAutoUpdateOptionsName</th>\n",
       "      <th>Census_IsPortableOperatingSystem</th>\n",
       "      <th>Census_GenuineStateName</th>\n",
       "      <th>Census_ActivationChannel</th>\n",
       "      <th>Census_IsFlightingInternal</th>\n",
       "      <th>Census_IsFlightsDisabled</th>\n",
       "      <th>Census_FlightRing</th>\n",
       "      <th>Census_ThresholdOptIn</th>\n",
       "      <th>Census_FirmwareManufacturerIdentifier</th>\n",
       "      <th>Census_FirmwareVersionIdentifier</th>\n",
       "      <th>Census_IsSecureBootEnabled</th>\n",
       "      <th>Census_IsWIMBootEnabled</th>\n",
       "      <th>Census_IsVirtualDevice</th>\n",
       "      <th>Census_IsTouchEnabled</th>\n",
       "      <th>Census_IsPenCapable</th>\n",
       "      <th>Census_IsAlwaysOnAlwaysConnectedCapable</th>\n",
       "      <th>Wdft_IsGamer</th>\n",
       "      <th>Wdft_RegionIdentifier</th>\n",
       "      <th>HasDetections</th>\n",
       "    </tr>\n",
       "  </thead>\n",
       "  <tbody>\n",
       "    <tr>\n",
       "      <th>0</th>\n",
       "      <td>0000028988387b115f69f31a3bf04f09</td>\n",
       "      <td>0</td>\n",
       "      <td>0</td>\n",
       "      <td>0</td>\n",
       "      <td>134.0</td>\n",
       "      <td>0</td>\n",
       "      <td>0</td>\n",
       "      <td>0</td>\n",
       "      <td>NaN</td>\n",
       "      <td>0</td>\n",
       "      <td>0</td>\n",
       "      <td>0</td>\n",
       "      <td>1</td>\n",
       "      <td>0</td>\n",
       "      <td>205.0</td>\n",
       "      <td>0</td>\n",
       "      <td>0</td>\n",
       "      <td>0</td>\n",
       "      <td>0</td>\n",
       "      <td>0</td>\n",
       "      <td>0</td>\n",
       "      <td>0</td>\n",
       "      <td>0</td>\n",
       "      <td>0</td>\n",
       "      <td>0</td>\n",
       "      <td>0</td>\n",
       "      <td>1.0</td>\n",
       "      <td>0</td>\n",
       "      <td>NaN</td>\n",
       "      <td>0.0</td>\n",
       "      <td>0</td>\n",
       "      <td>-1</td>\n",
       "      <td>1.0</td>\n",
       "      <td>0</td>\n",
       "      <td>0</td>\n",
       "      <td>0</td>\n",
       "      <td>0.0</td>\n",
       "      <td>22022.0</td>\n",
       "      <td>4.0</td>\n",
       "      <td>0</td>\n",
       "      <td>135.0</td>\n",
       "      <td>-1</td>\n",
       "      <td>476940.0</td>\n",
       "      <td>0</td>\n",
       "      <td>299451.0</td>\n",
       "      <td>0</td>\n",
       "      <td>4096.0</td>\n",
       "      <td>0</td>\n",
       "      <td>18.906250</td>\n",
       "      <td>1440.0</td>\n",
       "      <td>900.0</td>\n",
       "      <td>0</td>\n",
       "      <td>-1</td>\n",
       "      <td>4.294967e+09</td>\n",
       "      <td>0</td>\n",
       "      <td>0</td>\n",
       "      <td>0</td>\n",
       "      <td>0</td>\n",
       "      <td>0</td>\n",
       "      <td>0</td>\n",
       "      <td>0</td>\n",
       "      <td>0</td>\n",
       "      <td>0</td>\n",
       "      <td>0</td>\n",
       "      <td>0</td>\n",
       "      <td>0</td>\n",
       "      <td>0</td>\n",
       "      <td>0</td>\n",
       "      <td>NaN</td>\n",
       "      <td>0.0</td>\n",
       "      <td>0</td>\n",
       "      <td>NaN</td>\n",
       "      <td>0</td>\n",
       "      <td>2572.0</td>\n",
       "      <td>0</td>\n",
       "      <td>NaN</td>\n",
       "      <td>0.0</td>\n",
       "      <td>0</td>\n",
       "      <td>0</td>\n",
       "      <td>0.0</td>\n",
       "      <td>0.0</td>\n",
       "      <td>0</td>\n",
       "      <td>0</td>\n",
       "    </tr>\n",
       "    <tr>\n",
       "      <th>1</th>\n",
       "      <td>000007535c3f730efa9ea0b7ef1bd645</td>\n",
       "      <td>0</td>\n",
       "      <td>1</td>\n",
       "      <td>1</td>\n",
       "      <td>0.0</td>\n",
       "      <td>0</td>\n",
       "      <td>0</td>\n",
       "      <td>0</td>\n",
       "      <td>NaN</td>\n",
       "      <td>0</td>\n",
       "      <td>0</td>\n",
       "      <td>0</td>\n",
       "      <td>1</td>\n",
       "      <td>1</td>\n",
       "      <td>171.0</td>\n",
       "      <td>0</td>\n",
       "      <td>1</td>\n",
       "      <td>1</td>\n",
       "      <td>0</td>\n",
       "      <td>0</td>\n",
       "      <td>0</td>\n",
       "      <td>0</td>\n",
       "      <td>0</td>\n",
       "      <td>0</td>\n",
       "      <td>0</td>\n",
       "      <td>0</td>\n",
       "      <td>1.0</td>\n",
       "      <td>0</td>\n",
       "      <td>NaN</td>\n",
       "      <td>0.0</td>\n",
       "      <td>0</td>\n",
       "      <td>-1</td>\n",
       "      <td>1.0</td>\n",
       "      <td>0</td>\n",
       "      <td>1</td>\n",
       "      <td>0</td>\n",
       "      <td>0.0</td>\n",
       "      <td>118655.0</td>\n",
       "      <td>4.0</td>\n",
       "      <td>0</td>\n",
       "      <td>134.0</td>\n",
       "      <td>-1</td>\n",
       "      <td>476940.0</td>\n",
       "      <td>0</td>\n",
       "      <td>102385.0</td>\n",
       "      <td>0</td>\n",
       "      <td>4096.0</td>\n",
       "      <td>1</td>\n",
       "      <td>13.898438</td>\n",
       "      <td>1366.0</td>\n",
       "      <td>768.0</td>\n",
       "      <td>1</td>\n",
       "      <td>-1</td>\n",
       "      <td>1.000000e+00</td>\n",
       "      <td>1</td>\n",
       "      <td>0</td>\n",
       "      <td>0</td>\n",
       "      <td>0</td>\n",
       "      <td>1</td>\n",
       "      <td>0</td>\n",
       "      <td>0</td>\n",
       "      <td>1</td>\n",
       "      <td>1</td>\n",
       "      <td>1</td>\n",
       "      <td>0</td>\n",
       "      <td>0</td>\n",
       "      <td>1</td>\n",
       "      <td>0</td>\n",
       "      <td>NaN</td>\n",
       "      <td>0.0</td>\n",
       "      <td>1</td>\n",
       "      <td>NaN</td>\n",
       "      <td>0</td>\n",
       "      <td>1415.0</td>\n",
       "      <td>0</td>\n",
       "      <td>NaN</td>\n",
       "      <td>0.0</td>\n",
       "      <td>0</td>\n",
       "      <td>0</td>\n",
       "      <td>0.0</td>\n",
       "      <td>0.0</td>\n",
       "      <td>1</td>\n",
       "      <td>0</td>\n",
       "    </tr>\n",
       "    <tr>\n",
       "      <th>2</th>\n",
       "      <td>000007905a28d863f6d0d597892cd692</td>\n",
       "      <td>0</td>\n",
       "      <td>0</td>\n",
       "      <td>0</td>\n",
       "      <td>336.0</td>\n",
       "      <td>0</td>\n",
       "      <td>0</td>\n",
       "      <td>0</td>\n",
       "      <td>NaN</td>\n",
       "      <td>0</td>\n",
       "      <td>0</td>\n",
       "      <td>0</td>\n",
       "      <td>1</td>\n",
       "      <td>2</td>\n",
       "      <td>673.0</td>\n",
       "      <td>0</td>\n",
       "      <td>2</td>\n",
       "      <td>2</td>\n",
       "      <td>0</td>\n",
       "      <td>0</td>\n",
       "      <td>0</td>\n",
       "      <td>0</td>\n",
       "      <td>1</td>\n",
       "      <td>0</td>\n",
       "      <td>0</td>\n",
       "      <td>1</td>\n",
       "      <td>1.0</td>\n",
       "      <td>0</td>\n",
       "      <td>NaN</td>\n",
       "      <td>0.0</td>\n",
       "      <td>0</td>\n",
       "      <td>0</td>\n",
       "      <td>1.0</td>\n",
       "      <td>0</td>\n",
       "      <td>0</td>\n",
       "      <td>0</td>\n",
       "      <td>10.0</td>\n",
       "      <td>2.0</td>\n",
       "      <td>4.0</td>\n",
       "      <td>0</td>\n",
       "      <td>191.0</td>\n",
       "      <td>-1</td>\n",
       "      <td>114473.0</td>\n",
       "      <td>1</td>\n",
       "      <td>113907.0</td>\n",
       "      <td>0</td>\n",
       "      <td>4096.0</td>\n",
       "      <td>0</td>\n",
       "      <td>21.500000</td>\n",
       "      <td>1920.0</td>\n",
       "      <td>1080.0</td>\n",
       "      <td>0</td>\n",
       "      <td>-1</td>\n",
       "      <td>4.294967e+09</td>\n",
       "      <td>0</td>\n",
       "      <td>0</td>\n",
       "      <td>0</td>\n",
       "      <td>0</td>\n",
       "      <td>0</td>\n",
       "      <td>1</td>\n",
       "      <td>1</td>\n",
       "      <td>0</td>\n",
       "      <td>2</td>\n",
       "      <td>2</td>\n",
       "      <td>1</td>\n",
       "      <td>0</td>\n",
       "      <td>0</td>\n",
       "      <td>1</td>\n",
       "      <td>NaN</td>\n",
       "      <td>0.0</td>\n",
       "      <td>0</td>\n",
       "      <td>NaN</td>\n",
       "      <td>1</td>\n",
       "      <td>184.0</td>\n",
       "      <td>0</td>\n",
       "      <td>NaN</td>\n",
       "      <td>0.0</td>\n",
       "      <td>0</td>\n",
       "      <td>0</td>\n",
       "      <td>0.0</td>\n",
       "      <td>0.0</td>\n",
       "      <td>2</td>\n",
       "      <td>0</td>\n",
       "    </tr>\n",
       "    <tr>\n",
       "      <th>3</th>\n",
       "      <td>00000b11598a75ea8ba1beea8459149f</td>\n",
       "      <td>0</td>\n",
       "      <td>0</td>\n",
       "      <td>0</td>\n",
       "      <td>25.0</td>\n",
       "      <td>0</td>\n",
       "      <td>0</td>\n",
       "      <td>0</td>\n",
       "      <td>NaN</td>\n",
       "      <td>0</td>\n",
       "      <td>0</td>\n",
       "      <td>0</td>\n",
       "      <td>1</td>\n",
       "      <td>3</td>\n",
       "      <td>20.0</td>\n",
       "      <td>-1</td>\n",
       "      <td>3</td>\n",
       "      <td>3</td>\n",
       "      <td>0</td>\n",
       "      <td>0</td>\n",
       "      <td>0</td>\n",
       "      <td>0</td>\n",
       "      <td>0</td>\n",
       "      <td>0</td>\n",
       "      <td>0</td>\n",
       "      <td>0</td>\n",
       "      <td>1.0</td>\n",
       "      <td>0</td>\n",
       "      <td>NaN</td>\n",
       "      <td>0.0</td>\n",
       "      <td>0</td>\n",
       "      <td>1</td>\n",
       "      <td>1.0</td>\n",
       "      <td>0</td>\n",
       "      <td>0</td>\n",
       "      <td>0</td>\n",
       "      <td>2.0</td>\n",
       "      <td>158.0</td>\n",
       "      <td>4.0</td>\n",
       "      <td>0</td>\n",
       "      <td>63.0</td>\n",
       "      <td>-1</td>\n",
       "      <td>238475.0</td>\n",
       "      <td>2</td>\n",
       "      <td>227116.0</td>\n",
       "      <td>0</td>\n",
       "      <td>4096.0</td>\n",
       "      <td>2</td>\n",
       "      <td>18.500000</td>\n",
       "      <td>1366.0</td>\n",
       "      <td>768.0</td>\n",
       "      <td>0</td>\n",
       "      <td>-1</td>\n",
       "      <td>4.294967e+09</td>\n",
       "      <td>2</td>\n",
       "      <td>0</td>\n",
       "      <td>0</td>\n",
       "      <td>0</td>\n",
       "      <td>2</td>\n",
       "      <td>0</td>\n",
       "      <td>0</td>\n",
       "      <td>0</td>\n",
       "      <td>3</td>\n",
       "      <td>3</td>\n",
       "      <td>1</td>\n",
       "      <td>0</td>\n",
       "      <td>0</td>\n",
       "      <td>1</td>\n",
       "      <td>NaN</td>\n",
       "      <td>0.0</td>\n",
       "      <td>0</td>\n",
       "      <td>NaN</td>\n",
       "      <td>2</td>\n",
       "      <td>30.0</td>\n",
       "      <td>0</td>\n",
       "      <td>NaN</td>\n",
       "      <td>0.0</td>\n",
       "      <td>0</td>\n",
       "      <td>0</td>\n",
       "      <td>0.0</td>\n",
       "      <td>0.0</td>\n",
       "      <td>2</td>\n",
       "      <td>1</td>\n",
       "    </tr>\n",
       "    <tr>\n",
       "      <th>4</th>\n",
       "      <td>000014a5f00daa18e76b81417eeb99fc</td>\n",
       "      <td>0</td>\n",
       "      <td>0</td>\n",
       "      <td>0</td>\n",
       "      <td>18.0</td>\n",
       "      <td>0</td>\n",
       "      <td>0</td>\n",
       "      <td>0</td>\n",
       "      <td>NaN</td>\n",
       "      <td>0</td>\n",
       "      <td>0</td>\n",
       "      <td>0</td>\n",
       "      <td>1</td>\n",
       "      <td>4</td>\n",
       "      <td>13.0</td>\n",
       "      <td>-1</td>\n",
       "      <td>4</td>\n",
       "      <td>4</td>\n",
       "      <td>0</td>\n",
       "      <td>0</td>\n",
       "      <td>0</td>\n",
       "      <td>0</td>\n",
       "      <td>1</td>\n",
       "      <td>0</td>\n",
       "      <td>0</td>\n",
       "      <td>1</td>\n",
       "      <td>1.0</td>\n",
       "      <td>0</td>\n",
       "      <td>NaN</td>\n",
       "      <td>0.0</td>\n",
       "      <td>0</td>\n",
       "      <td>0</td>\n",
       "      <td>1.0</td>\n",
       "      <td>0</td>\n",
       "      <td>1</td>\n",
       "      <td>0</td>\n",
       "      <td>2.0</td>\n",
       "      <td>2269.0</td>\n",
       "      <td>4.0</td>\n",
       "      <td>0</td>\n",
       "      <td>52.0</td>\n",
       "      <td>-1</td>\n",
       "      <td>476940.0</td>\n",
       "      <td>0</td>\n",
       "      <td>101900.0</td>\n",
       "      <td>0</td>\n",
       "      <td>6144.0</td>\n",
       "      <td>3</td>\n",
       "      <td>14.000000</td>\n",
       "      <td>1366.0</td>\n",
       "      <td>768.0</td>\n",
       "      <td>1</td>\n",
       "      <td>0</td>\n",
       "      <td>0.000000e+00</td>\n",
       "      <td>3</td>\n",
       "      <td>0</td>\n",
       "      <td>0</td>\n",
       "      <td>0</td>\n",
       "      <td>3</td>\n",
       "      <td>1</td>\n",
       "      <td>1</td>\n",
       "      <td>2</td>\n",
       "      <td>1</td>\n",
       "      <td>1</td>\n",
       "      <td>1</td>\n",
       "      <td>0</td>\n",
       "      <td>0</td>\n",
       "      <td>0</td>\n",
       "      <td>0.0</td>\n",
       "      <td>0.0</td>\n",
       "      <td>0</td>\n",
       "      <td>0.0</td>\n",
       "      <td>2</td>\n",
       "      <td>129.0</td>\n",
       "      <td>0</td>\n",
       "      <td>0.0</td>\n",
       "      <td>0.0</td>\n",
       "      <td>0</td>\n",
       "      <td>0</td>\n",
       "      <td>0.0</td>\n",
       "      <td>0.0</td>\n",
       "      <td>3</td>\n",
       "      <td>1</td>\n",
       "    </tr>\n",
       "  </tbody>\n",
       "</table>\n",
       "</div>"
      ],
      "text/plain": [
       "                  MachineIdentifier  ProductName  EngineVersion  AppVersion  \\\n",
       "0  0000028988387b115f69f31a3bf04f09            0              0           0   \n",
       "1  000007535c3f730efa9ea0b7ef1bd645            0              1           1   \n",
       "2  000007905a28d863f6d0d597892cd692            0              0           0   \n",
       "3  00000b11598a75ea8ba1beea8459149f            0              0           0   \n",
       "4  000014a5f00daa18e76b81417eeb99fc            0              0           0   \n",
       "\n",
       "   AvSigVersion  IsBeta  RtpStateBitfield  IsSxsPassiveMode  \\\n",
       "0         134.0       0                 0                 0   \n",
       "1           0.0       0                 0                 0   \n",
       "2         336.0       0                 0                 0   \n",
       "3          25.0       0                 0                 0   \n",
       "4          18.0       0                 0                 0   \n",
       "\n",
       "   DefaultBrowsersIdentifier  AVProductStatesIdentifier  AVProductsInstalled  \\\n",
       "0                        NaN                          0                    0   \n",
       "1                        NaN                          0                    0   \n",
       "2                        NaN                          0                    0   \n",
       "3                        NaN                          0                    0   \n",
       "4                        NaN                          0                    0   \n",
       "\n",
       "   AVProductsEnabled  HasTpm  CountryIdentifier  CityIdentifier  \\\n",
       "0                  0       1                  0           205.0   \n",
       "1                  0       1                  1           171.0   \n",
       "2                  0       1                  2           673.0   \n",
       "3                  0       1                  3            20.0   \n",
       "4                  0       1                  4            13.0   \n",
       "\n",
       "   OrganizationIdentifier  GeoNameIdentifier  LocaleEnglishNameIdentifier  \\\n",
       "0                       0                  0                            0   \n",
       "1                       0                  1                            1   \n",
       "2                       0                  2                            2   \n",
       "3                      -1                  3                            3   \n",
       "4                      -1                  4                            4   \n",
       "\n",
       "   Platform  Processor  OsVer  OsBuild  OsSuite  OsPlatformSubRelease  \\\n",
       "0         0          0      0        0        0                     0   \n",
       "1         0          0      0        0        0                     0   \n",
       "2         0          0      0        0        1                     0   \n",
       "3         0          0      0        0        0                     0   \n",
       "4         0          0      0        0        1                     0   \n",
       "\n",
       "   OsBuildLab  SkuEdition  IsProtected  AutoSampleOptIn PuaMode  SMode  \\\n",
       "0           0           0          1.0                0     NaN    0.0   \n",
       "1           0           0          1.0                0     NaN    0.0   \n",
       "2           0           1          1.0                0     NaN    0.0   \n",
       "3           0           0          1.0                0     NaN    0.0   \n",
       "4           0           1          1.0                0     NaN    0.0   \n",
       "\n",
       "   IeVerIdentifier  SmartScreen  Firewall  UacLuaenable  \\\n",
       "0                0           -1       1.0             0   \n",
       "1                0           -1       1.0             0   \n",
       "2                0            0       1.0             0   \n",
       "3                0            1       1.0             0   \n",
       "4                0            0       1.0             0   \n",
       "\n",
       "   Census_MDC2FormFactor  Census_DeviceFamily  Census_OEMNameIdentifier  \\\n",
       "0                      0                    0                       0.0   \n",
       "1                      1                    0                       0.0   \n",
       "2                      0                    0                      10.0   \n",
       "3                      0                    0                       2.0   \n",
       "4                      1                    0                       2.0   \n",
       "\n",
       "   Census_OEMModelIdentifier  Census_ProcessorCoreCount  \\\n",
       "0                    22022.0                        4.0   \n",
       "1                   118655.0                        4.0   \n",
       "2                        2.0                        4.0   \n",
       "3                      158.0                        4.0   \n",
       "4                     2269.0                        4.0   \n",
       "\n",
       "   Census_ProcessorManufacturerIdentifier  Census_ProcessorModelIdentifier  \\\n",
       "0                                       0                            135.0   \n",
       "1                                       0                            134.0   \n",
       "2                                       0                            191.0   \n",
       "3                                       0                             63.0   \n",
       "4                                       0                             52.0   \n",
       "\n",
       "   Census_ProcessorClass  Census_PrimaryDiskTotalCapacity  \\\n",
       "0                     -1                         476940.0   \n",
       "1                     -1                         476940.0   \n",
       "2                     -1                         114473.0   \n",
       "3                     -1                         238475.0   \n",
       "4                     -1                         476940.0   \n",
       "\n",
       "   Census_PrimaryDiskTypeName  Census_SystemVolumeTotalCapacity  \\\n",
       "0                           0                          299451.0   \n",
       "1                           0                          102385.0   \n",
       "2                           1                          113907.0   \n",
       "3                           2                          227116.0   \n",
       "4                           0                          101900.0   \n",
       "\n",
       "   Census_HasOpticalDiskDrive  Census_TotalPhysicalRAM  \\\n",
       "0                           0                   4096.0   \n",
       "1                           0                   4096.0   \n",
       "2                           0                   4096.0   \n",
       "3                           0                   4096.0   \n",
       "4                           0                   6144.0   \n",
       "\n",
       "   Census_ChassisTypeName  Census_InternalPrimaryDiagonalDisplaySizeInInches  \\\n",
       "0                       0                                          18.906250   \n",
       "1                       1                                          13.898438   \n",
       "2                       0                                          21.500000   \n",
       "3                       2                                          18.500000   \n",
       "4                       3                                          14.000000   \n",
       "\n",
       "   Census_InternalPrimaryDisplayResolutionHorizontal  \\\n",
       "0                                             1440.0   \n",
       "1                                             1366.0   \n",
       "2                                             1920.0   \n",
       "3                                             1366.0   \n",
       "4                                             1366.0   \n",
       "\n",
       "   Census_InternalPrimaryDisplayResolutionVertical  \\\n",
       "0                                            900.0   \n",
       "1                                            768.0   \n",
       "2                                           1080.0   \n",
       "3                                            768.0   \n",
       "4                                            768.0   \n",
       "\n",
       "   Census_PowerPlatformRoleName  Census_InternalBatteryType  \\\n",
       "0                             0                          -1   \n",
       "1                             1                          -1   \n",
       "2                             0                          -1   \n",
       "3                             0                          -1   \n",
       "4                             1                           0   \n",
       "\n",
       "   Census_InternalBatteryNumberOfCharges  Census_OSVersion  \\\n",
       "0                           4.294967e+09                 0   \n",
       "1                           1.000000e+00                 1   \n",
       "2                           4.294967e+09                 0   \n",
       "3                           4.294967e+09                 2   \n",
       "4                           0.000000e+00                 3   \n",
       "\n",
       "   Census_OSArchitecture  Census_OSBranch  Census_OSBuildNumber  \\\n",
       "0                      0                0                     0   \n",
       "1                      0                0                     0   \n",
       "2                      0                0                     0   \n",
       "3                      0                0                     0   \n",
       "4                      0                0                     0   \n",
       "\n",
       "   Census_OSBuildRevision  Census_OSEdition  Census_OSSkuName  \\\n",
       "0                       0                 0                 0   \n",
       "1                       1                 0                 0   \n",
       "2                       0                 1                 1   \n",
       "3                       2                 0                 0   \n",
       "4                       3                 1                 1   \n",
       "\n",
       "   Census_OSInstallTypeName  Census_OSInstallLanguageIdentifier  \\\n",
       "0                         0                                   0   \n",
       "1                         1                                   1   \n",
       "2                         0                                   2   \n",
       "3                         0                                   3   \n",
       "4                         2                                   1   \n",
       "\n",
       "   Census_OSUILocaleIdentifier  Census_OSWUAutoUpdateOptionsName  \\\n",
       "0                            0                                 0   \n",
       "1                            1                                 0   \n",
       "2                            2                                 1   \n",
       "3                            3                                 1   \n",
       "4                            1                                 1   \n",
       "\n",
       "   Census_IsPortableOperatingSystem  Census_GenuineStateName  \\\n",
       "0                                 0                        0   \n",
       "1                                 0                        1   \n",
       "2                                 0                        0   \n",
       "3                                 0                        0   \n",
       "4                                 0                        0   \n",
       "\n",
       "   Census_ActivationChannel  Census_IsFlightingInternal  \\\n",
       "0                         0                         NaN   \n",
       "1                         0                         NaN   \n",
       "2                         1                         NaN   \n",
       "3                         1                         NaN   \n",
       "4                         0                         0.0   \n",
       "\n",
       "   Census_IsFlightsDisabled  Census_FlightRing  Census_ThresholdOptIn  \\\n",
       "0                       0.0                  0                    NaN   \n",
       "1                       0.0                  1                    NaN   \n",
       "2                       0.0                  0                    NaN   \n",
       "3                       0.0                  0                    NaN   \n",
       "4                       0.0                  0                    0.0   \n",
       "\n",
       "   Census_FirmwareManufacturerIdentifier  Census_FirmwareVersionIdentifier  \\\n",
       "0                                      0                            2572.0   \n",
       "1                                      0                            1415.0   \n",
       "2                                      1                             184.0   \n",
       "3                                      2                              30.0   \n",
       "4                                      2                             129.0   \n",
       "\n",
       "   Census_IsSecureBootEnabled  Census_IsWIMBootEnabled  \\\n",
       "0                           0                      NaN   \n",
       "1                           0                      NaN   \n",
       "2                           0                      NaN   \n",
       "3                           0                      NaN   \n",
       "4                           0                      0.0   \n",
       "\n",
       "   Census_IsVirtualDevice  Census_IsTouchEnabled  Census_IsPenCapable  \\\n",
       "0                     0.0                      0                    0   \n",
       "1                     0.0                      0                    0   \n",
       "2                     0.0                      0                    0   \n",
       "3                     0.0                      0                    0   \n",
       "4                     0.0                      0                    0   \n",
       "\n",
       "   Census_IsAlwaysOnAlwaysConnectedCapable  Wdft_IsGamer  \\\n",
       "0                                      0.0           0.0   \n",
       "1                                      0.0           0.0   \n",
       "2                                      0.0           0.0   \n",
       "3                                      0.0           0.0   \n",
       "4                                      0.0           0.0   \n",
       "\n",
       "   Wdft_RegionIdentifier  HasDetections  \n",
       "0                      0              0  \n",
       "1                      1              0  \n",
       "2                      2              0  \n",
       "3                      2              1  \n",
       "4                      3              1  "
      ]
     },
     "execution_count": 16,
     "metadata": {},
     "output_type": "execute_result"
    }
   ],
   "source": [
    "train[:5]"
   ]
  },
  {
   "cell_type": "code",
   "execution_count": 17,
   "metadata": {
    "_uuid": "b24463c6a0bf3603b5cff08702910f82dece28f3",
    "collapsed": true
   },
   "outputs": [],
   "source": [
    "target = train['HasDetections']\n",
    "del train['HasDetections']"
   ]
  },
  {
   "cell_type": "markdown",
   "metadata": {
    "_uuid": "b91db8b5c98da4f014f1863ba7de18e241f517c6"
   },
   "source": [
    "<a id=\"3\"></a> <br>\n",
    "## 3. Training the model"
   ]
  },
  {
   "cell_type": "code",
   "execution_count": 18,
   "metadata": {
    "_uuid": "56d006d366fc5c2686249887b5d1f302d4a708f5",
    "collapsed": true
   },
   "outputs": [],
   "source": [
    "param = {'num_leaves': 40,\n",
    "         'min_data_in_leaf': 60, \n",
    "         'objective':'binary',\n",
    "         'max_depth': -1,\n",
    "         'learning_rate': 0.1,\n",
    "         \"boosting\": \"gbdt\",\n",
    "         \"feature_fraction\": 0.8,\n",
    "         \"bagging_freq\": 1,\n",
    "         \"bagging_fraction\": 0.8 ,\n",
    "         \"bagging_seed\": 11,\n",
    "         \"metric\": 'auc',\n",
    "         \"lambda_l1\": 0.1,\n",
    "         \"random_state\": 133,\n",
    "         \"verbosity\": -1}"
   ]
  },
  {
   "cell_type": "markdown",
   "metadata": {
    "_uuid": "7ab8ef627687c7602b81a9ac83f90ff3a2094d0c"
   },
   "source": [
    "We set the max number of iteration over folds:"
   ]
  },
  {
   "cell_type": "code",
   "execution_count": 19,
   "metadata": {
    "_uuid": "9f306e20ae748715da17a2f15702ea1aa4d81497",
    "collapsed": true
   },
   "outputs": [],
   "source": [
    "max_iter = 3"
   ]
  },
  {
   "cell_type": "code",
   "execution_count": 20,
   "metadata": {
    "_uuid": "f2f01a6006dcb34ffb53ca33a055e592ee9e75e1"
   },
   "outputs": [
    {
     "data": {
      "text/plain": [
       "212601"
      ]
     },
     "execution_count": 20,
     "metadata": {},
     "output_type": "execute_result"
    }
   ],
   "source": [
    "gc.collect()"
   ]
  },
  {
   "cell_type": "code",
   "execution_count": 21,
   "metadata": {
    "_uuid": "0e9f0fd37207aeaa33f3d758ed22a32b462fc93d",
    "scrolled": true
   },
   "outputs": [
    {
     "name": "stdout",
     "output_type": "stream",
     "text": [
      "fold n°0\n"
     ]
    },
    {
     "name": "stderr",
     "output_type": "stream",
     "text": [
      "C:\\Anaconda3\\lib\\site-packages\\lightgbm\\basic.py:1184: UserWarning:\n",
      "\n",
      "Using categorical_feature in Dataset.\n",
      "\n",
      "C:\\Anaconda3\\lib\\site-packages\\lightgbm\\basic.py:742: UserWarning:\n",
      "\n",
      "categorical_feature in param dict is overridden.\n",
      "\n"
     ]
    },
    {
     "name": "stdout",
     "output_type": "stream",
     "text": [
      "Training until validation scores don't improve for 200 rounds.\n",
      "[100]\ttraining's auc: 0.72787\tvalid_1's auc: 0.725365\n",
      "[200]\ttraining's auc: 0.735523\tvalid_1's auc: 0.730431\n",
      "[300]\ttraining's auc: 0.73963\tvalid_1's auc: 0.73218\n",
      "[400]\ttraining's auc: 0.74249\tvalid_1's auc: 0.733122\n",
      "[500]\ttraining's auc: 0.744813\tvalid_1's auc: 0.733683\n",
      "Did not meet early stopping. Best iteration is:\n",
      "[500]\ttraining's auc: 0.744813\tvalid_1's auc: 0.733683\n",
      "time elapsed: 0.29 s\n",
      "fold n°1\n"
     ]
    },
    {
     "name": "stderr",
     "output_type": "stream",
     "text": [
      "C:\\Anaconda3\\lib\\site-packages\\lightgbm\\basic.py:1184: UserWarning:\n",
      "\n",
      "Using categorical_feature in Dataset.\n",
      "\n",
      "C:\\Anaconda3\\lib\\site-packages\\lightgbm\\basic.py:742: UserWarning:\n",
      "\n",
      "categorical_feature in param dict is overridden.\n",
      "\n"
     ]
    },
    {
     "name": "stdout",
     "output_type": "stream",
     "text": [
      "Training until validation scores don't improve for 200 rounds.\n",
      "[100]\ttraining's auc: 0.727594\tvalid_1's auc: 0.72497\n",
      "[200]\ttraining's auc: 0.735062\tvalid_1's auc: 0.729947\n",
      "[300]\ttraining's auc: 0.739505\tvalid_1's auc: 0.732152\n",
      "[400]\ttraining's auc: 0.742424\tvalid_1's auc: 0.733105\n",
      "[500]\ttraining's auc: 0.744779\tvalid_1's auc: 0.733664\n",
      "Did not meet early stopping. Best iteration is:\n",
      "[500]\ttraining's auc: 0.744779\tvalid_1's auc: 0.733664\n",
      "time elapsed: 0.59 s\n",
      "fold n°2\n"
     ]
    },
    {
     "name": "stderr",
     "output_type": "stream",
     "text": [
      "C:\\Anaconda3\\lib\\site-packages\\lightgbm\\basic.py:1184: UserWarning:\n",
      "\n",
      "Using categorical_feature in Dataset.\n",
      "\n",
      "C:\\Anaconda3\\lib\\site-packages\\lightgbm\\basic.py:742: UserWarning:\n",
      "\n",
      "categorical_feature in param dict is overridden.\n",
      "\n"
     ]
    },
    {
     "name": "stdout",
     "output_type": "stream",
     "text": [
      "Training until validation scores don't improve for 200 rounds.\n",
      "[100]\ttraining's auc: 0.727817\tvalid_1's auc: 0.725104\n",
      "[200]\ttraining's auc: 0.735308\tvalid_1's auc: 0.730169\n",
      "[300]\ttraining's auc: 0.739494\tvalid_1's auc: 0.732192\n",
      "[400]\ttraining's auc: 0.742519\tvalid_1's auc: 0.733258\n",
      "[500]\ttraining's auc: 0.744754\tvalid_1's auc: 0.733766\n",
      "Did not meet early stopping. Best iteration is:\n",
      "[500]\ttraining's auc: 0.744754\tvalid_1's auc: 0.733766\n",
      "time elapsed: 0.87 s\n",
      "CV score: 0.73370 \n"
     ]
    }
   ],
   "source": [
    "folds = KFold(n_splits=3, shuffle=True, random_state=15)\n",
    "oof = np.zeros(len(train))\n",
    "categorical_columns = [c for c in categorical_columns if c not in ['MachineIdentifier']]\n",
    "features = [c for c in train.columns if c not in ['MachineIdentifier']]\n",
    "predictions = np.zeros(len(test))\n",
    "start = time.time()\n",
    "feature_importance_df = pd.DataFrame()\n",
    "start_time= time.time()\n",
    "score = [0 for _ in range(folds.n_splits)]\n",
    "\n",
    "for fold_, (trn_idx, val_idx) in enumerate(folds.split(train.values, target.values)):\n",
    "    print(\"fold n°{}\".format(fold_))\n",
    "    trn_data = lgb.Dataset(train.iloc[trn_idx][features],\n",
    "                           label=target.iloc[trn_idx],\n",
    "                           categorical_feature = categorical_columns\n",
    "                          )\n",
    "    val_data = lgb.Dataset(train.iloc[val_idx][features],\n",
    "                           label=target.iloc[val_idx],\n",
    "                           categorical_feature = categorical_columns\n",
    "                          )\n",
    "\n",
    "    num_round = 500\n",
    "    clf = lgb.train(param,\n",
    "                    trn_data,\n",
    "                    num_round,\n",
    "                    valid_sets = [trn_data, val_data],\n",
    "                    verbose_eval=100,\n",
    "                    early_stopping_rounds = 200)\n",
    "    \n",
    "    oof[val_idx] = clf.predict(train.iloc[val_idx][features], num_iteration=clf.best_iteration)\n",
    "    \n",
    "    fold_importance_df = pd.DataFrame()\n",
    "    fold_importance_df[\"feature\"] = features\n",
    "    fold_importance_df[\"importance\"] = clf.feature_importance(importance_type='gain')\n",
    "    fold_importance_df[\"fold\"] = fold_ + 1\n",
    "    feature_importance_df = pd.concat([feature_importance_df, fold_importance_df], axis=0)\n",
    "\n",
    "    # we perform predictions by chunks\n",
    "    initial_idx = 0\n",
    "    chunk_size = 1000000\n",
    "    current_pred = np.zeros(len(test))\n",
    "    while initial_idx < test.shape[0]:\n",
    "        final_idx = min(initial_idx + chunk_size, test.shape[0])\n",
    "        idx = range(initial_idx, final_idx)\n",
    "        current_pred[idx] = clf.predict(test.iloc[idx][features], num_iteration=clf.best_iteration)\n",
    "        initial_idx = final_idx\n",
    "    predictions += current_pred / min(folds.n_splits, max_iter)\n",
    "   \n",
    "    print(\"time elapsed: {:<5.2}s\".format((time.time() - start_time) / 3600))\n",
    "    score[fold_] = metrics.roc_auc_score(target.iloc[val_idx], oof[val_idx])\n",
    "    if fold_ == max_iter - 1: break\n",
    "        \n",
    "if (folds.n_splits == max_iter):\n",
    "    print(\"CV score: {:<8.5f}\".format(metrics.roc_auc_score(target, oof)))\n",
    "else:\n",
    "     print(\"CV score: {:<8.5f}\".format(sum(score) / max_iter))"
   ]
  },
  {
   "cell_type": "markdown",
   "metadata": {
    "_uuid": "15075259e27c5180c8e650ac9c9bc06f8ca2239b"
   },
   "source": [
    "<a id=\"4\"></a> <br>\n",
    "## 4. Feature importance"
   ]
  },
  {
   "cell_type": "code",
   "execution_count": 22,
   "metadata": {
    "_uuid": "8b814f54b6ee5665fcadaa4b1a1bd28282fc2390",
    "collapsed": true,
    "scrolled": false
   },
   "outputs": [],
   "source": [
    "cols = (feature_importance_df[[\"feature\", \"importance\"]]\n",
    "        .groupby(\"feature\")\n",
    "        .mean()\n",
    "        .sort_values(by=\"importance\", ascending=False)[:1000].index)\n",
    "\n",
    "best_features = feature_importance_df.loc[feature_importance_df.feature.isin(cols)]\n",
    "\n",
    "plt.figure(figsize=(14,25))\n",
    "sns.barplot(x=\"importance\",\n",
    "            y=\"feature\",\n",
    "            data=best_features.sort_values(by=\"importance\",\n",
    "                                           ascending=False))\n",
    "plt.title('LightGBM Features (avg over folds)')\n",
    "plt.tight_layout()\n",
    "plt.savefig('lgbm_importances.png')"
   ]
  },
  {
   "cell_type": "markdown",
   "metadata": {
    "_uuid": "08a4c881ae24d784e9ee3c197d1188e26fdb40c7"
   },
   "source": [
    "<a id=\"5\"></a> <br>\n",
    "## 5. Submission"
   ]
  },
  {
   "cell_type": "code",
   "execution_count": 23,
   "metadata": {
    "_uuid": "1fe8a68970387c8e57d373b4d0944731a32ccd51"
   },
   "outputs": [
    {
     "data": {
      "text/html": [
       "<div>\n",
       "<style scoped>\n",
       "    .dataframe tbody tr th:only-of-type {\n",
       "        vertical-align: middle;\n",
       "    }\n",
       "\n",
       "    .dataframe tbody tr th {\n",
       "        vertical-align: top;\n",
       "    }\n",
       "\n",
       "    .dataframe thead th {\n",
       "        text-align: right;\n",
       "    }\n",
       "</style>\n",
       "<table border=\"1\" class=\"dataframe\">\n",
       "  <thead>\n",
       "    <tr style=\"text-align: right;\">\n",
       "      <th></th>\n",
       "      <th>MachineIdentifier</th>\n",
       "      <th>HasDetections</th>\n",
       "    </tr>\n",
       "  </thead>\n",
       "  <tbody>\n",
       "    <tr>\n",
       "      <th>0</th>\n",
       "      <td>0000010489e3af074adeac69c53e555e</td>\n",
       "      <td>0.534338</td>\n",
       "    </tr>\n",
       "    <tr>\n",
       "      <th>1</th>\n",
       "      <td>00000176ac758d54827acd545b6315a5</td>\n",
       "      <td>0.519437</td>\n",
       "    </tr>\n",
       "    <tr>\n",
       "      <th>2</th>\n",
       "      <td>0000019dcefc128c2d4387c1273dae1d</td>\n",
       "      <td>0.427178</td>\n",
       "    </tr>\n",
       "    <tr>\n",
       "      <th>3</th>\n",
       "      <td>0000055553dc51b1295785415f1a224d</td>\n",
       "      <td>0.347209</td>\n",
       "    </tr>\n",
       "    <tr>\n",
       "      <th>4</th>\n",
       "      <td>00000574cefffeca83ec8adf9285b2bf</td>\n",
       "      <td>0.441808</td>\n",
       "    </tr>\n",
       "    <tr>\n",
       "      <th>5</th>\n",
       "      <td>000007ffedd31948f08e6c16da31f6d1</td>\n",
       "      <td>0.508533</td>\n",
       "    </tr>\n",
       "    <tr>\n",
       "      <th>6</th>\n",
       "      <td>000008f31610018d898e5f315cdf1bd1</td>\n",
       "      <td>0.272799</td>\n",
       "    </tr>\n",
       "    <tr>\n",
       "      <th>7</th>\n",
       "      <td>00000a3c447250626dbcc628c9cbc460</td>\n",
       "      <td>0.195465</td>\n",
       "    </tr>\n",
       "    <tr>\n",
       "      <th>8</th>\n",
       "      <td>00000b6bf217ec9aef0f68d5c6705897</td>\n",
       "      <td>0.468707</td>\n",
       "    </tr>\n",
       "    <tr>\n",
       "      <th>9</th>\n",
       "      <td>00000b8d3776b13e93ad83676a28e4aa</td>\n",
       "      <td>0.298150</td>\n",
       "    </tr>\n",
       "  </tbody>\n",
       "</table>\n",
       "</div>"
      ],
      "text/plain": [
       "                  MachineIdentifier  HasDetections\n",
       "0  0000010489e3af074adeac69c53e555e       0.534338\n",
       "1  00000176ac758d54827acd545b6315a5       0.519437\n",
       "2  0000019dcefc128c2d4387c1273dae1d       0.427178\n",
       "3  0000055553dc51b1295785415f1a224d       0.347209\n",
       "4  00000574cefffeca83ec8adf9285b2bf       0.441808\n",
       "5  000007ffedd31948f08e6c16da31f6d1       0.508533\n",
       "6  000008f31610018d898e5f315cdf1bd1       0.272799\n",
       "7  00000a3c447250626dbcc628c9cbc460       0.195465\n",
       "8  00000b6bf217ec9aef0f68d5c6705897       0.468707\n",
       "9  00000b8d3776b13e93ad83676a28e4aa       0.298150"
      ]
     },
     "execution_count": 23,
     "metadata": {},
     "output_type": "execute_result"
    }
   ],
   "source": [
    "sub_df = pd.DataFrame({\"MachineIdentifier\": test[\"MachineIdentifier\"].values})\n",
    "sub_df[\"HasDetections\"] = predictions\n",
    "sub_df[:10]"
   ]
  },
  {
   "cell_type": "code",
   "execution_count": 24,
   "metadata": {
    "_uuid": "65cd74398d3f80186d65a2ff3431403a6846e229",
    "collapsed": true
   },
   "outputs": [],
   "source": [
    "sub_df.to_csv(\"submit.csv\", index=False)"
   ]
  },
  {
   "cell_type": "code",
   "execution_count": null,
   "metadata": {
    "_uuid": "f49a6ae2de87096b30d77418b80e96136fc1ecb4",
    "collapsed": true
   },
   "outputs": [],
   "source": []
  },
  {
   "cell_type": "code",
   "execution_count": null,
   "metadata": {
    "_uuid": "0d00244117167f3cf1fb22574d060ac8c5603349",
    "collapsed": true
   },
   "outputs": [],
   "source": []
  },
  {
   "cell_type": "code",
   "execution_count": null,
   "metadata": {
    "_uuid": "e21b47118504e87f9b1bbd88ee7bb5b81aa4ea1c",
    "collapsed": true
   },
   "outputs": [],
   "source": []
  }
 ],
 "metadata": {
  "kernelspec": {
   "display_name": "Python 3",
   "language": "python",
   "name": "python3"
  },
  "language_info": {
   "codemirror_mode": {
    "name": "ipython",
    "version": 3
   },
   "file_extension": ".py",
   "mimetype": "text/x-python",
   "name": "python",
   "nbconvert_exporter": "python",
   "pygments_lexer": "ipython3",
   "version": "3.6.7"
  }
 },
 "nbformat": 4,
 "nbformat_minor": 1
}
